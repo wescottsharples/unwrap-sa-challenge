{
 "cells": [
  {
   "cell_type": "code",
   "execution_count": null,
   "metadata": {},
   "outputs": [],
   "source": [
    "import pandas as pd\n",
    "import numpy as np\n",
    "import matplotlib.pyplot as plt\n",
    "\n",
    "%matplotlib inline"
   ]
  },
  {
   "cell_type": "code",
   "execution_count": null,
   "metadata": {},
   "outputs": [],
   "source": [
    "# create a dataframe from the csv file\n",
    "from src.config import SENTIMENT_ANNOTATIONS_CSV\n",
    "df = pd.read_csv(SENTIMENT_ANNOTATIONS_CSV)"
   ]
  },
  {
   "attachments": {},
   "cell_type": "markdown",
   "metadata": {},
   "source": [
    "## Poking Around the Data"
   ]
  },
  {
   "attachments": {},
   "cell_type": "markdown",
   "metadata": {},
   "source": [
    "### Basics"
   ]
  },
  {
   "cell_type": "code",
   "execution_count": null,
   "metadata": {},
   "outputs": [],
   "source": [
    "# What does it look like?\n",
    "df.head()"
   ]
  },
  {
   "cell_type": "code",
   "execution_count": null,
   "metadata": {},
   "outputs": [],
   "source": [
    "# How many rows and columns?\n",
    "df.shape"
   ]
  },
  {
   "attachments": {},
   "cell_type": "markdown",
   "metadata": {},
   "source": [
    "### Distributions"
   ]
  },
  {
   "cell_type": "code",
   "execution_count": null,
   "metadata": {},
   "outputs": [],
   "source": [
    "# How much of our data comes from each source?\n",
    "df[\"data_source\"].value_counts().plot(kind=\"bar\")\n",
    "plt.show()"
   ]
  },
  {
   "cell_type": "code",
   "execution_count": null,
   "metadata": {},
   "outputs": [],
   "source": [
    "# What's the distribution of sentiment?\n",
    "df[\"sentiment_output\"].value_counts().plot(kind=\"bar\")\n",
    "plt.show()"
   ]
  },
  {
   "cell_type": "code",
   "execution_count": null,
   "metadata": {},
   "outputs": [],
   "source": [
    "# What is the distribution of sentiment for each data_source?\n",
    "df.groupby(\"data_source\")[\"sentiment_output\"].value_counts().plot(kind=\"bar\")\n",
    "plt.show()"
   ]
  },
  {
   "attachments": {},
   "cell_type": "markdown",
   "metadata": {},
   "source": [
    "### Title and Entry Descriptions"
   ]
  },
  {
   "cell_type": "code",
   "execution_count": null,
   "metadata": {},
   "outputs": [],
   "source": [
    "# Okay, so Reddit is full of pessimists, no surprise there.\n",
    "# The app store and gplay are slightly positive, and have similar distributions.\n",
    "# What percentage of the titles are NaN?\n",
    "round(df[\"title\"].isna().sum() / df.shape[0], 2)"
   ]
  },
  {
   "cell_type": "code",
   "execution_count": null,
   "metadata": {},
   "outputs": [],
   "source": [
    "# About 1/4, so probably could use the title to help with sentiment analysis.\n",
    "# Are there any NaNs in the entry column?\n",
    "df[\"entry\"].isna().sum()"
   ]
  },
  {
   "cell_type": "code",
   "execution_count": null,
   "metadata": {},
   "outputs": [],
   "source": [
    "# No, that's good.\n",
    "# But what is the average length, standard deviation, min, and max of the entry column?\n",
    "df[\"entry\"].str.len().describe()"
   ]
  },
  {
   "cell_type": "code",
   "execution_count": null,
   "metadata": {},
   "outputs": [],
   "source": [
    "# Let's import a tokenizer to see the breakdown by tokens instead of characters.\n",
    "# We'll use the spacy tokenizer, which is a good default for English.\n",
    "import spacy\n",
    "\n",
    "nlp = spacy.load(\"en_core_web_sm\")\n",
    "\n",
    "df[\"entry_doc\"] = df[\"entry\"].apply(lambda x: nlp(x))  # convert to spacy doc\n",
    "df[\"entry_token_count\"] = df[\"entry_doc\"].apply(lambda x: len(x))  # get token count\n",
    "df[\"entry_token_count\"].describe()  # get stats"
   ]
  },
  {
   "cell_type": "code",
   "execution_count": null,
   "metadata": {},
   "outputs": [],
   "source": [
    "# We'll have to watch out for that max value, but otherwise the length looks good\n",
    "# to pass into a transformer model like BERT since the max length is usually 512."
   ]
  },
  {
   "attachments": {},
   "cell_type": "markdown",
   "metadata": {},
   "source": [
    "## Baseline Accuracy"
   ]
  },
  {
   "cell_type": "code",
   "execution_count": null,
   "metadata": {},
   "outputs": [],
   "source": [
    "# How accurate is the baseline sentiment analysis model?\n",
    "df[\"correct?\"].sum() / df.shape[0]"
   ]
  },
  {
   "cell_type": "code",
   "execution_count": null,
   "metadata": {},
   "outputs": [],
   "source": [
    "# 0.69 isn't bad, but let's get a little more insight into the errors.\n",
    "from sklearn.metrics import classification_report\n",
    "\n",
    "print(classification_report(df[\"sentiment_output\"], df[\"annotated_sentiment\"]))"
   ]
  },
  {
   "cell_type": "code",
   "execution_count": null,
   "metadata": {},
   "outputs": [],
   "source": [
    "# We can see that the model is struggling with the neutral class.\n",
    "# Let's take a look at some incorrect predictions for the neutral class.\n",
    "df_neutral = df[df[\"sentiment_output\"] == \"NEUTRAL\"]\n",
    "df_neutral_inc = df_neutral[df_neutral[\"annotated_sentiment\"] != \"NEUTRAL\"]\n",
    "df_neutral_inc.head()"
   ]
  },
  {
   "cell_type": "code",
   "execution_count": null,
   "metadata": {},
   "outputs": [],
   "source": [
    "# So those are all incorrectly labeled as negative.\n",
    "# What's the distribution of predicted sentiment for the incorrect neutral class?\n",
    "df_neutral_inc[\"annotated_sentiment\"].value_counts().plot(kind=\"bar\")\n",
    "plt.show()"
   ]
  },
  {
   "cell_type": "code",
   "execution_count": null,
   "metadata": {},
   "outputs": [],
   "source": [
    "# Okay, so in the incorrect cases, the model is mostly predicting negative.\n",
    "# Let's take a look at some of the incorrect negative predictions.\n",
    "for i in range(5):\n",
    "    print(f\"{i+1}. {df_neutral_inc.iloc[i]['entry']}\")\n",
    "    print(f\"Predicted: {df_neutral_inc.iloc[i]['annotated_sentiment']}\")\n",
    "    print()"
   ]
  },
  {
   "cell_type": "code",
   "execution_count": null,
   "metadata": {},
   "outputs": [],
   "source": [
    "# In my opinion, the model is doing a pretty good job of predicting negative sentiment\n",
    "# because some of these are subjectively negative.\n",
    "# Anyways, let's benchmark performance against a few other models in the next notebook."
   ]
  }
 ],
 "metadata": {
  "language_info": {
   "name": "python",
   "pygments_lexer": "ipython3"
  }
 },
 "nbformat": 4,
 "nbformat_minor": 2
}
